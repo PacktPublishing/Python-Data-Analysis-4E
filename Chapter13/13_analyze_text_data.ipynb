{
 "cells": [
  {
   "cell_type": "code",
   "execution_count": 1,
   "id": "941bc070-9485-46ee-ba31-d0a00dad682c",
   "metadata": {},
   "outputs": [],
   "source": [
    "import pandas as pd\n",
    "\n",
    "#Reading Product Review data with Pandas\n",
    "review = pd.read_excel(\"product_reviews.xlsx\")"
   ]
  },
  {
   "cell_type": "code",
   "execution_count": 2,
   "id": "b5395230-026c-42ae-a42a-3429dcdc8061",
   "metadata": {},
   "outputs": [
    {
     "data": {
      "text/html": [
       "<div>\n",
       "<style scoped>\n",
       "    .dataframe tbody tr th:only-of-type {\n",
       "        vertical-align: middle;\n",
       "    }\n",
       "\n",
       "    .dataframe tbody tr th {\n",
       "        vertical-align: top;\n",
       "    }\n",
       "\n",
       "    .dataframe thead th {\n",
       "        text-align: right;\n",
       "    }\n",
       "</style>\n",
       "<table border=\"1\" class=\"dataframe\">\n",
       "  <thead>\n",
       "    <tr style=\"text-align: right;\">\n",
       "      <th></th>\n",
       "      <th>ReviewID</th>\n",
       "      <th>Category</th>\n",
       "      <th>ReviewText</th>\n",
       "      <th>Rating</th>\n",
       "      <th>SentimentLabel</th>\n",
       "      <th>ReviewDate</th>\n",
       "    </tr>\n",
       "  </thead>\n",
       "  <tbody>\n",
       "    <tr>\n",
       "      <th>0</th>\n",
       "      <td>1</td>\n",
       "      <td>Clothing</td>\n",
       "      <td>Very disappointed, it stopped working after a ...</td>\n",
       "      <td>1</td>\n",
       "      <td>negative</td>\n",
       "      <td>2024-10-11</td>\n",
       "    </tr>\n",
       "    <tr>\n",
       "      <th>1</th>\n",
       "      <td>2</td>\n",
       "      <td>Toys</td>\n",
       "      <td>Very useful and well-designed, worth every penny.</td>\n",
       "      <td>5</td>\n",
       "      <td>positive</td>\n",
       "      <td>2025-05-30</td>\n",
       "    </tr>\n",
       "    <tr>\n",
       "      <th>2</th>\n",
       "      <td>3</td>\n",
       "      <td>Books</td>\n",
       "      <td>Poor quality and not as described.</td>\n",
       "      <td>1</td>\n",
       "      <td>negative</td>\n",
       "      <td>2025-03-15</td>\n",
       "    </tr>\n",
       "    <tr>\n",
       "      <th>3</th>\n",
       "      <td>4</td>\n",
       "      <td>Electronics</td>\n",
       "      <td>Not bad, but not great either.</td>\n",
       "      <td>2</td>\n",
       "      <td>neutral</td>\n",
       "      <td>2025-05-13</td>\n",
       "    </tr>\n",
       "    <tr>\n",
       "      <th>4</th>\n",
       "      <td>5</td>\n",
       "      <td>Clothing</td>\n",
       "      <td>Not bad, but not great either.</td>\n",
       "      <td>3</td>\n",
       "      <td>neutral</td>\n",
       "      <td>2025-02-05</td>\n",
       "    </tr>\n",
       "    <tr>\n",
       "      <th>...</th>\n",
       "      <td>...</td>\n",
       "      <td>...</td>\n",
       "      <td>...</td>\n",
       "      <td>...</td>\n",
       "      <td>...</td>\n",
       "      <td>...</td>\n",
       "    </tr>\n",
       "    <tr>\n",
       "      <th>95</th>\n",
       "      <td>96</td>\n",
       "      <td>Clothing</td>\n",
       "      <td>It’s acceptable for the price.</td>\n",
       "      <td>4</td>\n",
       "      <td>neutral</td>\n",
       "      <td>2025-03-15</td>\n",
       "    </tr>\n",
       "    <tr>\n",
       "      <th>96</th>\n",
       "      <td>97</td>\n",
       "      <td>Toys</td>\n",
       "      <td>Not worth the money, very low quality.</td>\n",
       "      <td>2</td>\n",
       "      <td>negative</td>\n",
       "      <td>2024-10-31</td>\n",
       "    </tr>\n",
       "    <tr>\n",
       "      <th>97</th>\n",
       "      <td>98</td>\n",
       "      <td>Toys</td>\n",
       "      <td>I am impressed with the performance and durabi...</td>\n",
       "      <td>4</td>\n",
       "      <td>positive</td>\n",
       "      <td>2024-11-14</td>\n",
       "    </tr>\n",
       "    <tr>\n",
       "      <th>98</th>\n",
       "      <td>99</td>\n",
       "      <td>Books</td>\n",
       "      <td>Very disappointed, it stopped working after a ...</td>\n",
       "      <td>2</td>\n",
       "      <td>negative</td>\n",
       "      <td>2024-12-29</td>\n",
       "    </tr>\n",
       "    <tr>\n",
       "      <th>99</th>\n",
       "      <td>100</td>\n",
       "      <td>Electronics</td>\n",
       "      <td>It works fine but there are better alternatives.</td>\n",
       "      <td>2</td>\n",
       "      <td>neutral</td>\n",
       "      <td>2025-09-06</td>\n",
       "    </tr>\n",
       "  </tbody>\n",
       "</table>\n",
       "<p>100 rows × 6 columns</p>\n",
       "</div>"
      ],
      "text/plain": [
       "    ReviewID     Category                                         ReviewText  \\\n",
       "0          1     Clothing  Very disappointed, it stopped working after a ...   \n",
       "1          2         Toys  Very useful and well-designed, worth every penny.   \n",
       "2          3        Books                 Poor quality and not as described.   \n",
       "3          4  Electronics                     Not bad, but not great either.   \n",
       "4          5     Clothing                     Not bad, but not great either.   \n",
       "..       ...          ...                                                ...   \n",
       "95        96     Clothing                     It’s acceptable for the price.   \n",
       "96        97         Toys             Not worth the money, very low quality.   \n",
       "97        98         Toys  I am impressed with the performance and durabi...   \n",
       "98        99        Books  Very disappointed, it stopped working after a ...   \n",
       "99       100  Electronics   It works fine but there are better alternatives.   \n",
       "\n",
       "    Rating SentimentLabel  ReviewDate  \n",
       "0        1       negative  2024-10-11  \n",
       "1        5       positive  2025-05-30  \n",
       "2        1       negative  2025-03-15  \n",
       "3        2        neutral  2025-05-13  \n",
       "4        3        neutral  2025-02-05  \n",
       "..     ...            ...         ...  \n",
       "95       4        neutral  2025-03-15  \n",
       "96       2       negative  2024-10-31  \n",
       "97       4       positive  2024-11-14  \n",
       "98       2       negative  2024-12-29  \n",
       "99       2        neutral  2025-09-06  \n",
       "\n",
       "[100 rows x 6 columns]"
      ]
     },
     "execution_count": 2,
     "metadata": {},
     "output_type": "execute_result"
    }
   ],
   "source": [
    "review"
   ]
  },
  {
   "cell_type": "code",
   "execution_count": 3,
   "id": "1f42f0c3-26a4-40d9-9676-c216d87f0e51",
   "metadata": {},
   "outputs": [
    {
     "name": "stdout",
     "output_type": "stream",
     "text": [
      "URLs: ['http://example.com', 'www.shop.test']\n",
      "Letters only: Absolutely LOVE this product    Works      as expected    Visit http   example com or www shop test  \n"
     ]
    }
   ],
   "source": [
    "#Regex example for cleaning and normalizing text\n",
    "\n",
    "import re\n",
    "\n",
    "review_ex = \"Absolutely LOVE this product!!! Works 100% as expected... Visit http://example.com or www.shop.test 😊\"\n",
    "\n",
    "# 1) Find all URLs\n",
    "urls = re.findall(r\"(https?://\\S+|www\\.\\S+)\", review_ex)\n",
    "\n",
    "# 2) Remove any character that is not a letter or space\n",
    "letters_only = re.sub(r\"[^A-Za-z\\s]\", \" \", review_ex)\n",
    "\n",
    "\n",
    "print(\"URLs:\", urls)\n",
    "print(\"Letters only:\", letters_only)"
   ]
  },
  {
   "cell_type": "code",
   "execution_count": 4,
   "id": "5aba6e59-7e7c-49db-9da9-affa3359033f",
   "metadata": {},
   "outputs": [
    {
     "name": "stdout",
     "output_type": "stream",
     "text": [
      "absolutely love this product works as expected visit http or\n"
     ]
    }
   ],
   "source": [
    "import nltk\n",
    "# nltk.download(\"punkt\")  # run once\n",
    "from nltk.tokenize import word_tokenize\n",
    "\n",
    "tokens = word_tokenize(review_ex)\n",
    "cleaned = \" \".join(t.lower() for t in tokens if t.isalpha())\n",
    "print(cleaned)"
   ]
  },
  {
   "cell_type": "code",
   "execution_count": 5,
   "id": "1a5276fb-f95e-43ac-add8-4a96b4bfb713",
   "metadata": {},
   "outputs": [
    {
     "name": "stdout",
     "output_type": "stream",
     "text": [
      "Cleaned (regex + NLTK): absolutely love this product works as expected visit http example com or www shop test\n"
     ]
    }
   ],
   "source": [
    "tokens = word_tokenize(letters_only)\n",
    "cleaned_nltk = \" \".join(t.lower() for t in tokens if t.isalpha())\n",
    "\n",
    "print(\"Cleaned (regex + NLTK):\", cleaned_nltk)"
   ]
  },
  {
   "cell_type": "code",
   "execution_count": 6,
   "id": "64d3bad6-67ba-4263-bb6f-50f3ca6ae64f",
   "metadata": {},
   "outputs": [
    {
     "name": "stdout",
     "output_type": "stream",
     "text": [
      "['absolutely', 'love', 'product', 'works', 'expected', 'visit', 'http', 'example', 'com', 'www', 'shop', 'test']\n"
     ]
    }
   ],
   "source": [
    "import nltk\n",
    "# nltk.download(\"stopwords\")   # run once\n",
    "\n",
    "from nltk.corpus import stopwords\n",
    "\n",
    "tokens = word_tokenize(cleaned_nltk)\n",
    "tokens = [t.lower() for t in tokens if t.isalpha()]\n",
    "\n",
    "# build a stopword set and (optionally) preserve negations for sentiment tasks\n",
    "stops = set(stopwords.words(\"english\"))\n",
    "stops -= {\"not\", \"no\", \"never\"}  # keep negations\n",
    "\n",
    "# remove stopwords and add simple length filter to drop very short tokens\n",
    "tokens_nostop = [t for t in tokens if t not in stops and len(t) > 2]\n",
    "\n",
    "print(tokens_nostop)"
   ]
  },
  {
   "cell_type": "code",
   "execution_count": 7,
   "id": "2f876db9-992e-4d48-8faf-e47184058708",
   "metadata": {},
   "outputs": [
    {
     "name": "stdout",
     "output_type": "stream",
     "text": [
      "Tokens       : ['absolutely', 'love', 'product', 'works', 'expected', 'visit', 'http', 'example', 'com', 'www', 'shop', 'test']\n",
      "Porter stems : ['absolut', 'love', 'product', 'work', 'expect', 'visit', 'http', 'exampl', 'com', 'www', 'shop', 'test']\n"
     ]
    }
   ],
   "source": [
    "#Stemming\n",
    "from nltk.stem import PorterStemmer\n",
    "\n",
    "porter = PorterStemmer()\n",
    "\n",
    "porter_stems = [porter.stem(t) for t in tokens_nostop]\n",
    "print(\"Tokens       :\", tokens_nostop)\n",
    "print(\"Porter stems :\", porter_stems)"
   ]
  },
  {
   "cell_type": "code",
   "execution_count": 8,
   "id": "c903ad82-5468-4291-9480-b6d089702f9c",
   "metadata": {},
   "outputs": [
    {
     "name": "stdout",
     "output_type": "stream",
     "text": [
      "Tokens  : ['absolutely', 'love', 'product', 'works', 'expected', 'visit', 'http', 'example', 'com', 'www', 'shop', 'test']\n",
      "Lemmas  : ['absolutely', 'love', 'product', 'work', 'expected', 'visit', 'http', 'example', 'com', 'www', 'shop', 'test']\n"
     ]
    }
   ],
   "source": [
    "from nltk.stem import WordNetLemmatizer\n",
    "\n",
    "wnl = WordNetLemmatizer()\n",
    "\n",
    "lemmas = [wnl.lemmatize(t) for t in tokens_nostop]\n",
    "print(\"Tokens  :\", tokens_nostop)\n",
    "print(\"Lemmas  :\", lemmas)"
   ]
  },
  {
   "cell_type": "code",
   "execution_count": 9,
   "id": "8bd30873-b493-4a69-9eb4-64d7a7b28a57",
   "metadata": {},
   "outputs": [
    {
     "name": "stdout",
     "output_type": "stream",
     "text": [
      "[('absolutely', 'RB'), ('love', 'JJ'), ('product', 'NN'), ('works', 'NNS'), ('expected', 'VBD'), ('visit', 'NN'), ('http', 'NN'), ('example', 'NN'), ('com', 'NN'), ('www', 'NN'), ('shop', 'NN'), ('test', 'NN')]\n"
     ]
    }
   ],
   "source": [
    "# nltk.download(\"averaged_perceptron_tagger_eng\")          # run once\n",
    "\n",
    "pos_tags = nltk.pos_tag(tokens_nostop) \n",
    "print(pos_tags)"
   ]
  },
  {
   "cell_type": "code",
   "execution_count": 10,
   "id": "7413c2e5-5b37-424d-8dc5-d576dd114002",
   "metadata": {},
   "outputs": [
    {
     "name": "stdout",
     "output_type": "stream",
     "text": [
      "Tokens : ['absolutely', 'love', 'product', 'works', 'expected', 'visit', 'http', 'example', 'com', 'www', 'shop', 'test']\n",
      "Lemmas : ['absolutely', 'love', 'product', 'work', 'expect', 'visit', 'http', 'example', 'com', 'www', 'shop', 'test']\n"
     ]
    }
   ],
   "source": [
    "from nltk.corpus import wordnet\n",
    "\n",
    "# nltk.download(\"wordnet\") # run once\n",
    "\n",
    "# map NLTK’s POS tags to WordNet POS tags\n",
    "def to_wordnet_pos(treebank_tag: str) -> str:\n",
    "    if treebank_tag.startswith('J'):\n",
    "        return wordnet.ADJ\n",
    "    elif treebank_tag.startswith('V'):\n",
    "        return wordnet.VERB\n",
    "    elif treebank_tag.startswith('N'):\n",
    "        return wordnet.NOUN\n",
    "    elif treebank_tag.startswith('R'):\n",
    "        return wordnet.ADV\n",
    "    else:\n",
    "        return wordnet.NOUN  # default to noun if unknown\n",
    "\n",
    "pos_tags = nltk.pos_tag(tokens_nostop)\n",
    "wnl = WordNetLemmatizer()\n",
    "lemmas_pos = [wnl.lemmatize(t, to_wordnet_pos(pos)) for t, pos in pos_tags]\n",
    "\n",
    "print(\"Tokens :\", tokens_nostop)\n",
    "print(\"Lemmas :\", lemmas_pos)"
   ]
  },
  {
   "cell_type": "code",
   "execution_count": 11,
   "id": "66010146-6885-45fb-8ce2-6e769644680d",
   "metadata": {},
   "outputs": [
    {
     "data": {
      "text/html": [
       "<div>\n",
       "<style scoped>\n",
       "    .dataframe tbody tr th:only-of-type {\n",
       "        vertical-align: middle;\n",
       "    }\n",
       "\n",
       "    .dataframe tbody tr th {\n",
       "        vertical-align: top;\n",
       "    }\n",
       "\n",
       "    .dataframe thead th {\n",
       "        text-align: right;\n",
       "    }\n",
       "</style>\n",
       "<table border=\"1\" class=\"dataframe\">\n",
       "  <thead>\n",
       "    <tr style=\"text-align: right;\">\n",
       "      <th></th>\n",
       "      <th>absolutely</th>\n",
       "      <th>it</th>\n",
       "      <th>love</th>\n",
       "      <th>product</th>\n",
       "      <th>this</th>\n",
       "      <th>works</th>\n",
       "    </tr>\n",
       "  </thead>\n",
       "  <tbody>\n",
       "    <tr>\n",
       "      <th>d1</th>\n",
       "      <td>0</td>\n",
       "      <td>0</td>\n",
       "      <td>1</td>\n",
       "      <td>1</td>\n",
       "      <td>1</td>\n",
       "      <td>0</td>\n",
       "    </tr>\n",
       "    <tr>\n",
       "      <th>d2</th>\n",
       "      <td>0</td>\n",
       "      <td>0</td>\n",
       "      <td>0</td>\n",
       "      <td>1</td>\n",
       "      <td>1</td>\n",
       "      <td>1</td>\n",
       "    </tr>\n",
       "    <tr>\n",
       "      <th>d3</th>\n",
       "      <td>1</td>\n",
       "      <td>1</td>\n",
       "      <td>1</td>\n",
       "      <td>0</td>\n",
       "      <td>0</td>\n",
       "      <td>0</td>\n",
       "    </tr>\n",
       "  </tbody>\n",
       "</table>\n",
       "</div>"
      ],
      "text/plain": [
       "    absolutely  it  love  product  this  works\n",
       "d1           0   0     1        1     1      0\n",
       "d2           0   0     0        1     1      1\n",
       "d3           1   1     1        0     0      0"
      ]
     },
     "execution_count": 11,
     "metadata": {},
     "output_type": "execute_result"
    }
   ],
   "source": [
    "import pandas as pd\n",
    "from collections import Counter\n",
    "\n",
    "# Sample documents\n",
    "docs = {\n",
    "    \"d1\": \"love this product\",\n",
    "    \"d2\": \"this product works\",\n",
    "    \"d3\": \"absolutely love it\"\n",
    "}\n",
    "\n",
    "# Tokenize by simple split\n",
    "tokenized_docs = {doc_id: text.lower().split() for doc_id, text in docs.items()}\n",
    "\n",
    "# Build vocabulary (sorted)\n",
    "vocab = sorted({word for tokens in tokenized_docs.values() for word in tokens})\n",
    "\n",
    "# Create Bag-of-Words matrix\n",
    "bow_data = {}\n",
    "for doc_id, tokens in tokenized_docs.items():\n",
    "    counts = Counter(tokens)\n",
    "    bow_data[doc_id] = [counts.get(word, 0) for word in vocab]\n",
    "\n",
    "# Convert to DataFrame\n",
    "df_bow = pd.DataFrame.from_dict(bow_data, orient=\"index\", columns=vocab)\n",
    "\n",
    "df_bow\n"
   ]
  },
  {
   "cell_type": "code",
   "execution_count": 12,
   "id": "f9a51e43-e081-4308-af13-9dc4b7c1ae30",
   "metadata": {},
   "outputs": [
    {
     "name": "stdout",
     "output_type": "stream",
     "text": [
      "Vocabulary: ['about' 'absolutely' 'acceptable' 'after' 'again' 'alternatives' 'am'\n",
      " 'and' 'are' 'as']\n",
      "Shape: (100, 74)\n",
      "BoW Sample:\n",
      " [[0 0 0 ... 0 0 0]\n",
      " [0 0 0 ... 0 1 0]\n",
      " [0 0 0 ... 0 0 0]\n",
      " ...\n",
      " [0 0 0 ... 0 0 0]\n",
      " [0 0 0 ... 0 0 0]\n",
      " [0 0 0 ... 1 0 0]]\n"
     ]
    }
   ],
   "source": [
    "#BoW with Scikit-Learn\n",
    "from sklearn.feature_extraction.text import CountVectorizer\n",
    "\n",
    "bow = CountVectorizer()\n",
    "X = bow.fit_transform(review['ReviewText'])  \n",
    "\n",
    "print(\"Vocabulary:\", bow.get_feature_names_out()[:10])\n",
    "print(\"Shape:\", X.shape)\n",
    "print(\"BoW Sample:\\n\", X.toarray())\n"
   ]
  },
  {
   "cell_type": "code",
   "execution_count": 13,
   "id": "43e6de35-0b7e-4b04-8b5b-07c81b593c6a",
   "metadata": {},
   "outputs": [
    {
     "name": "stdout",
     "output_type": "stream",
     "text": [
      "Vocabulary: ['about' 'about it' 'absolutely' 'absolutely love' 'acceptable'\n",
      " 'acceptable for' 'after' 'after week' 'again' 'alternatives']\n"
     ]
    }
   ],
   "source": [
    "# Include both unigrams and bigrams\n",
    "vectorizer = CountVectorizer(ngram_range=(1,2))\n",
    "X = vectorizer.fit_transform(review['ReviewText'])\n",
    "\n",
    "print(\"Vocabulary:\", vectorizer.get_feature_names_out()[:10])"
   ]
  },
  {
   "cell_type": "code",
   "execution_count": 14,
   "id": "c7861adc-c685-4e4f-ad6c-dca7888128d8",
   "metadata": {},
   "outputs": [
    {
     "name": "stdout",
     "output_type": "stream",
     "text": [
      "Vocabulary   : ['absolutely' 'absolutely love' 'acceptable' 'acceptable price'\n",
      " 'alternatives' 'average' 'average quality' 'bad' 'bad great' 'better']\n"
     ]
    }
   ],
   "source": [
    "# min_df=2  : keep terms appearing in at least 2 documents\n",
    "# max_df=0.9: drop terms appearing in >90% of documents\n",
    "vectorizer = CountVectorizer(\n",
    "    ngram_range=(1, 2),\n",
    "    min_df=2,\n",
    "    max_df=0.9,\n",
    "    stop_words=\"english\"\n",
    ")\n",
    "\n",
    "X = vectorizer.fit_transform(review['ReviewText'])\n",
    "print(\"Vocabulary   :\", vectorizer.get_feature_names_out()[:10])"
   ]
  },
  {
   "cell_type": "code",
   "execution_count": 15,
   "id": "86a651c1-94b4-4a4e-a027-1b41c1671776",
   "metadata": {},
   "outputs": [
    {
     "name": "stdout",
     "output_type": "stream",
     "text": [
      "TF-IDF BoW Sample:\n",
      " [0.         0.         0.         0.         0.         0.\n",
      " 0.         0.         0.         0.         0.         0.\n",
      " 0.         0.         0.         0.         0.         0.38989619\n",
      " 0.38989619 0.        ]\n"
     ]
    }
   ],
   "source": [
    "from sklearn.feature_extraction.text import TfidfVectorizer\n",
    "\n",
    "tfidf_vectorizer = TfidfVectorizer(\n",
    "    ngram_range=(1, 2),\n",
    "    stop_words=\"english\",\n",
    "    min_df=2,          \n",
    "    max_df=0.9,         \n",
    ")\n",
    "\n",
    "X = tfidf_vectorizer.fit_transform(review['ReviewText'])\n",
    "feat = tfidf_vectorizer.get_feature_names_out()\n",
    "\n",
    "print(\"TF-IDF BoW Sample:\\n\", X.toarray()[1][:20])"
   ]
  },
  {
   "cell_type": "code",
   "execution_count": 16,
   "id": "9c12cc05-56ed-4c0b-aa75-66879a0d8085",
   "metadata": {},
   "outputs": [
    {
     "name": "stdout",
     "output_type": "stream",
     "text": [
      "\n",
      "Word Embedding Vectors (latent dimensions):\n",
      "\n",
      "       dim_1  dim_2  dim_3  dim_4  dim_5  dim_6  dim_7\n",
      "man      0.6   -0.2    0.8    0.9   -0.1   -0.9   -0.7\n",
      "woman    0.7    0.3    0.8   -0.7    0.1   -0.5   -0.4\n",
      "king     0.5   -0.4    0.7    0.8    0.9   -0.7   -0.6\n",
      "queen    0.8   -0.1    0.8   -0.9    0.8   -0.5   -0.9\n"
     ]
    },
    {
     "data": {
      "image/png": "[encoded data removed]",
      "text/plain": [
       "<Figure size 600x600 with 1 Axes>"
      ]
     },
     "metadata": {},
     "output_type": "display_data"
    }
   ],
   "source": [
    "import numpy as np\n",
    "import pandas as pd\n",
    "import matplotlib.pyplot as plt\n",
    "from sklearn.decomposition import PCA\n",
    "\n",
    "# 1) Toy embeddings (latent dimensions; no human-readable labels)\n",
    "embeddings = {\n",
    "    \"man\":   [0.6, -0.2, 0.8, 0.9, -0.1, -0.9, -0.7],\n",
    "    \"woman\": [0.7,  0.3, 0.8, -0.7, 0.1, -0.5, -0.4],\n",
    "    \"king\":  [0.5, -0.4, 0.7, 0.8,  0.9, -0.7, -0.6],\n",
    "    \"queen\": [0.8, -0.1, 0.8, -0.9, 0.8, -0.5, -0.9],\n",
    "}\n",
    "\n",
    "# 2) Show the vectors as a DataFrame with generic latent dims\n",
    "df = pd.DataFrame.from_dict(embeddings, orient=\"index\")\n",
    "df.columns = [f\"dim_{i+1}\" for i in range(df.shape[1])]\n",
    "print(\"\\nWord Embedding Vectors (latent dimensions):\\n\")\n",
    "print(df)\n",
    "\n",
    "# 3) Build matrix and reduce to 2-D with PCA\n",
    "words = list(embeddings.keys())\n",
    "X = np.array([embeddings[w] for w in words])\n",
    "\n",
    "pca = PCA(n_components=2, random_state=42)\n",
    "X2 = pca.fit_transform(X)\n",
    "\n",
    "# 4) Plot 2-D points + labels + analogy arrows\n",
    "plt.figure(figsize=(6, 6))\n",
    "plt.scatter(X2[:, 0], X2[:, 1], s=100)\n",
    "\n",
    "for (x, y, w) in zip(X2[:, 0], X2[:, 1], words):\n",
    "    plt.text(x + 0.02, y + 0.02, w, fontsize=12)\n",
    "\n",
    "def arrow(a, b):\n",
    "    ax, ay = X2[words.index(a)]\n",
    "    bx, by = X2[words.index(b)]\n",
    "    plt.arrow(ax, ay, bx - ax, by - ay, head_width=0.03, length_includes_head=True)\n",
    "\n",
    "arrow(\"man\", \"woman\")\n",
    "arrow(\"king\", \"queen\")\n",
    "\n",
    "plt.title(\"Word Embeddings\")\n",
    "plt.axhline(0, linestyle=\"--\", linewidth=0.5)\n",
    "plt.axvline(0, linestyle=\"--\", linewidth=0.5)\n",
    "plt.tight_layout()\n",
    "plt.show()\n"
   ]
  },
  {
   "cell_type": "code",
   "execution_count": 17,
   "id": "5cf1738d-47e6-44e1-abe7-486dd08362d1",
   "metadata": {},
   "outputs": [
    {
     "data": {
      "text/html": [
       "<div>\n",
       "<style scoped>\n",
       "    .dataframe tbody tr th:only-of-type {\n",
       "        vertical-align: middle;\n",
       "    }\n",
       "\n",
       "    .dataframe tbody tr th {\n",
       "        vertical-align: top;\n",
       "    }\n",
       "\n",
       "    .dataframe thead th {\n",
       "        text-align: right;\n",
       "    }\n",
       "</style>\n",
       "<table border=\"1\" class=\"dataframe\">\n",
       "  <thead>\n",
       "    <tr style=\"text-align: right;\">\n",
       "      <th></th>\n",
       "      <th>dim_1</th>\n",
       "      <th>dim_2</th>\n",
       "      <th>dim_3</th>\n",
       "      <th>dim_4</th>\n",
       "      <th>dim_5</th>\n",
       "      <th>dim_6</th>\n",
       "      <th>dim_7</th>\n",
       "    </tr>\n",
       "  </thead>\n",
       "  <tbody>\n",
       "    <tr>\n",
       "      <th>man</th>\n",
       "      <td>0.6</td>\n",
       "      <td>-0.2</td>\n",
       "      <td>0.8</td>\n",
       "      <td>0.9</td>\n",
       "      <td>-0.1</td>\n",
       "      <td>-0.9</td>\n",
       "      <td>-0.7</td>\n",
       "    </tr>\n",
       "    <tr>\n",
       "      <th>woman</th>\n",
       "      <td>0.7</td>\n",
       "      <td>0.3</td>\n",
       "      <td>0.8</td>\n",
       "      <td>-0.7</td>\n",
       "      <td>0.1</td>\n",
       "      <td>-0.5</td>\n",
       "      <td>-0.4</td>\n",
       "    </tr>\n",
       "    <tr>\n",
       "      <th>king</th>\n",
       "      <td>0.5</td>\n",
       "      <td>-0.4</td>\n",
       "      <td>0.7</td>\n",
       "      <td>0.8</td>\n",
       "      <td>0.9</td>\n",
       "      <td>-0.7</td>\n",
       "      <td>-0.6</td>\n",
       "    </tr>\n",
       "    <tr>\n",
       "      <th>queen</th>\n",
       "      <td>0.8</td>\n",
       "      <td>-0.1</td>\n",
       "      <td>0.8</td>\n",
       "      <td>-0.9</td>\n",
       "      <td>0.8</td>\n",
       "      <td>-0.5</td>\n",
       "      <td>-0.9</td>\n",
       "    </tr>\n",
       "  </tbody>\n",
       "</table>\n",
       "</div>"
      ],
      "text/plain": [
       "       dim_1  dim_2  dim_3  dim_4  dim_5  dim_6  dim_7\n",
       "man      0.6   -0.2    0.8    0.9   -0.1   -0.9   -0.7\n",
       "woman    0.7    0.3    0.8   -0.7    0.1   -0.5   -0.4\n",
       "king     0.5   -0.4    0.7    0.8    0.9   -0.7   -0.6\n",
       "queen    0.8   -0.1    0.8   -0.9    0.8   -0.5   -0.9"
      ]
     },
     "execution_count": 17,
     "metadata": {},
     "output_type": "execute_result"
    }
   ],
   "source": [
    "df"
   ]
  },
  {
   "cell_type": "code",
   "execution_count": 18,
   "id": "d7842f7f-ec1a-4de4-8fdd-a6623d624fde",
   "metadata": {},
   "outputs": [
    {
     "name": "stdout",
     "output_type": "stream",
     "text": [
      "Vocab size: 74\n",
      "\n",
      "Nearest to 'product':\n",
      "want            0.285\n",
      "is              0.243\n",
      "performance     0.217\n",
      "my              0.206\n",
      "would           0.188\n"
     ]
    },
    {
     "data": {
      "text/plain": [
       "array([[ 0.00052064,  0.00331089,  0.00218705, ..., -0.00193868,\n",
       "        -0.0003784 ,  0.00209106],\n",
       "       [-0.00110444,  0.00051795, -0.00233621, ..., -0.00050913,\n",
       "         0.00078317, -0.0037994 ],\n",
       "       [-0.00526507,  0.00118895, -0.00170649, ..., -0.00081859,\n",
       "        -0.00416513,  0.00042248],\n",
       "       ...,\n",
       "       [-0.00155003,  0.00176021, -0.00144294, ..., -0.00025236,\n",
       "         0.00128769, -0.00110331],\n",
       "       [ 0.00052064,  0.00331089,  0.00218705, ..., -0.00193868,\n",
       "        -0.0003784 ,  0.00209106],\n",
       "       [ 0.00117482,  0.00043636,  0.00147893, ...,  0.00041706,\n",
       "         0.00227376,  0.00215633]], dtype=float32)"
      ]
     },
     "execution_count": 18,
     "metadata": {},
     "output_type": "execute_result"
    }
   ],
   "source": [
    "from gensim.models import Word2Vec\n",
    "from gensim.utils import simple_preprocess\n",
    "\n",
    "# Tokenize each document (lowercase, basic de-noising)\n",
    "tokenized = [simple_preprocess(text, deacc=True, min_len=2)  # remove punctuation, keep tokens len>=2\n",
    "             for text in review['ReviewText'].fillna(\"\").tolist()]\n",
    "\n",
    "# Train Word2Vec\n",
    "w2v = Word2Vec(\n",
    "    sentences=tokenized,\n",
    "    vector_size=100,   # embedding dimension\n",
    "    window=5,          # context window\n",
    "    min_count=2,       # ignore rare words (<2 occurrences)\n",
    ")\n",
    "\n",
    "# Inspect vocabulary size\n",
    "print(\"Vocab size:\", len(w2v.wv))\n",
    "\n",
    "# Nearest neighbors for a few words \n",
    "for probe in [\"product\"]:\n",
    "    if probe in w2v.wv:\n",
    "        print(f\"\\nNearest to '{probe}':\")\n",
    "        for term, score in w2v.wv.most_similar(probe, topn=5):\n",
    "            print(f\"{term:15s} {score:.3f}\")\n",
    "\n",
    "# Build simple document embeddings by averaging word vectors\n",
    "def doc_vector(tokens, model):\n",
    "    vectors = [model.wv[t] for t in tokens if t in model.wv]\n",
    "    return np.mean(vectors, axis=0) if vectors else np.zeros(model.vector_size)\n",
    "\n",
    "doc_embeddings = np.vstack([doc_vector(doc, w2v) for doc in tokenized])\n",
    "doc_embeddings"
   ]
  },
  {
   "cell_type": "code",
   "execution_count": 19,
   "id": "8bad29c6-8d85-472a-b804-4fcd37355f88",
   "metadata": {},
   "outputs": [],
   "source": [
    "# import torch\n",
    "# from transformers import AutoTokenizer, AutoModel\n",
    "\n",
    "# text = \"The bank raised rates near the river bank.\"\n",
    "\n",
    "# tok = AutoTokenizer.from_pretrained(\"distilbert-base-uncased\")\n",
    "# mdl = AutoModel.from_pretrained(\"distilbert-base-uncased\")\n",
    "\n",
    "# enc = tok(text, return_tensors=\"pt\")\n",
    "# with torch.no_grad():\n",
    "#     out = mdl(**enc)                     \n",
    "# token_embeddings = out.last_hidden_state[0]    \n",
    "\n",
    "# mask = enc[\"attention_mask\"][0].unsqueeze(-1)  \n",
    "# sent_vec = (token_embeddings * mask).sum(0) / mask.sum()\n",
    "\n",
    "# print(\"Tokens:\", tok.convert_ids_to_tokens(enc[\"input_ids\"][0])[:12])\n",
    "# print(token_embeddings)"
   ]
  },
  {
   "cell_type": "code",
   "execution_count": 35,
   "id": "ef7d05e0-03a9-4ada-ac2e-0de1a0b11948",
   "metadata": {},
   "outputs": [],
   "source": [
    "import re\n",
    "import numpy as np\n",
    "import pandas as pd\n",
    "from sklearn.model_selection import train_test_split, StratifiedKFold, cross_val_score\n",
    "from sklearn.feature_extraction.text import TfidfVectorizer\n",
    "from sklearn.pipeline import Pipeline\n",
    "from sklearn.naive_bayes import MultinomialNB\n",
    "from sklearn.metrics import classification_report, ConfusionMatrixDisplay, accuracy_score\n",
    "import matplotlib.pyplot as plt\n",
    "\n",
    "# Data Splitting\n",
    "X = review[\"ReviewText\"]\n",
    "y = review[\"SentimentLabel\"]\n",
    "\n",
    "X_train, X_test, y_train, y_test = train_test_split(\n",
    "    X, y, test_size=0.20, stratify=y, random_state=42\n",
    ")"
   ]
  },
  {
   "cell_type": "code",
   "execution_count": 36,
   "id": "dafc699d-979f-43ed-84db-108c4cf2247d",
   "metadata": {},
   "outputs": [],
   "source": [
    "# Text preprocessing + TF–IDF in a Pipeline\n",
    "#    - Preprocessor: light cleaning (URLs, non-letters, spaces, lower)\n",
    "#    - Vectorizer: unigrams+bigrams, stopwords, df pruning\n",
    "#    - Classifier: MultinomialNB (baseline)\n",
    "\n",
    "def simple_clean(s):\n",
    "    s = re.sub(r\"(https?://\\S+|www\\.\\S+)\", \" \", s)   # remove URLs\n",
    "    s = re.sub(r\"[^A-Za-z\\s]\", \" \", s)               # keep letters/spaces\n",
    "    s = re.sub(r\"\\s+\", \" \", s).strip().lower()       # normalize whitespace + lowercase\n",
    "    return s\n",
    "\n",
    "pipe_nb = Pipeline([\n",
    "    (\"tfidf\", TfidfVectorizer(\n",
    "        preprocessor=simple_clean,\n",
    "        stop_words=\"english\",\n",
    "        ngram_range=(1, 2),   # unigrams and bigrams \n",
    "        min_df=2,             # drop very rare terms\n",
    "        max_df=0.95           # drop too commons terms\n",
    "    )),\n",
    "    (\"clf\", MultinomialNB(alpha=1.0))   \n",
    "])"
   ]
  },
  {
   "cell_type": "code",
   "execution_count": 37,
   "id": "9f236d32-3a58-4bb6-842f-39addaead390",
   "metadata": {},
   "outputs": [
    {
     "name": "stdout",
     "output_type": "stream",
     "text": [
      "\n",
      "5-fold CV Accuracy:   1.0 ± 0.0\n"
     ]
    }
   ],
   "source": [
    "cv = StratifiedKFold(n_splits=5, shuffle=True, random_state=42)\n",
    "cv_scores = cross_val_score(pipe_nb, X_train, y_train, cv=cv, scoring=\"accuracy\")\n",
    "\n",
    "print(\"\\n5-fold CV Accuracy:  \", cv_scores.mean().round(3), \"±\", cv_scores.std().round(3))"
   ]
  },
  {
   "cell_type": "code",
   "execution_count": 38,
   "id": "fcad58b2-302c-4927-96d1-651028e6f5e2",
   "metadata": {},
   "outputs": [
    {
     "name": "stdout",
     "output_type": "stream",
     "text": [
      "\n",
      "Test Accuracy: 0.9\n",
      "\n",
      "Classification Report:\n",
      "               precision    recall  f1-score   support\n",
      "\n",
      "    negative      1.000     1.000     1.000         8\n",
      "     neutral      1.000     0.714     0.833         7\n",
      "    positive      0.714     1.000     0.833         5\n",
      "\n",
      "    accuracy                          0.900        20\n",
      "   macro avg      0.905     0.905     0.889        20\n",
      "weighted avg      0.929     0.900     0.900        20\n",
      "\n"
     ]
    },
    {
     "data": {
      "image/png": "[encoded data removed]",
      "text/plain": [
       "<Figure size 640x480 with 2 Axes>"
      ]
     },
     "metadata": {},
     "output_type": "display_data"
    }
   ],
   "source": [
    "pipe_nb.fit(X_train, y_train)\n",
    "y_pred = pipe_nb.predict(X_test)\n",
    "\n",
    "print(\"\\nTest Accuracy:\", round(accuracy_score(y_test, y_pred))\n",
    "print(\"\\nClassification Report:\\n\", classification_report(y_test, y_pred, digits=3))\n",
    "\n",
    "# Confusion Matrix\n",
    "disp = ConfusionMatrixDisplay.from_predictions(y_test, y_pred, cmap=\"Blues\")\n",
    "plt.title(\"Confusion Matrix for MultinomialNB + TF–IDF\")\n",
    "plt.tight_layout()\n",
    "plt.show()"
   ]
  },
  {
   "cell_type": "code",
   "execution_count": 41,
   "id": "bbc94539-d2d5-4369-8d36-465421699e7a",
   "metadata": {},
   "outputs": [
    {
     "name": "stdout",
     "output_type": "stream",
     "text": [
      "\n",
      "Top terms for class = negative:\n",
      "stopped, working, stopped working, week, disappointed stopped, disappointed, working week, quality, low, low quality, money, money low, worth money, worth, immediately\n",
      "\n",
      "Top terms for class = neutral:\n",
      "bad great, bad, great, price, acceptable, acceptable price, works fine, alternatives, fine, fine better, better, better alternatives, works, special, quality special\n",
      "\n",
      "Top terms for class = positive:\n",
      "perfectly, perfectly buy, works perfectly, buy, performance, performance durability, impressed, impressed performance, durability, works, highly recommended, quality fast, recommended, delivery highly, delivery\n"
     ]
    }
   ],
   "source": [
    "vec = pipe_nb.named_steps[\"tfidf\"]\n",
    "clf = pipe_nb.named_steps[\"clf\"]\n",
    "\n",
    "feature_names = np.array(vec.get_feature_names_out())\n",
    "class_labels  = clf.classes_\n",
    "log_probs     = clf.feature_log_prob_ \n",
    "\n",
    "def top_terms_per_class(k=15):\n",
    "    for ci, label in enumerate(class_labels):\n",
    "        top_idx = np.argsort(log_probs[ci])[::-1][:k]\n",
    "        print(f\"\\nTop terms for class = {label}:\")\n",
    "        print(\", \".join(feature_names[top_idx]))\n",
    "\n",
    "top_terms_per_class(k=15)"
   ]
  },
  {
   "cell_type": "code",
   "execution_count": null,
   "id": "0ea923c3-934a-4d00-a834-0b6217cb1163",
   "metadata": {},
   "outputs": [],
   "source": [
    "# import torch\n",
    "# from transformers import AutoTokenizer, AutoModelForSequenceClassification, Trainer, TrainingArguments\n",
    "# from datasets import Dataset\n",
    "# from sklearn.preprocessing import LabelEncoder\n",
    "\n",
    "# # Encode labels (convert to integers)\n",
    "# le = LabelEncoder()\n",
    "# y_enc = le.fit_transform(y)\n",
    "\n",
    "# data = Dataset.from_dict({\"text\": X.tolist(), \"label\": y_enc.tolist()})\n",
    "# data = data.train_test_split(test_size=0.2, seed=42)\n",
    "# print(data)"
   ]
  },
  {
   "cell_type": "code",
   "execution_count": null,
   "id": "fdc202a4-8684-4630-9a1e-cdf427b6d3ca",
   "metadata": {},
   "outputs": [],
   "source": [
    "# model_name = \"distilbert-base-uncased\"\n",
    "# tok = AutoTokenizer.from_pretrained(model_name)\n",
    "\n",
    "# def tokenize(batch):\n",
    "#     return tok(batch[\"text\"], truncation=True, padding=\"max_length\", max_length=128)\n",
    "\n",
    "# data_tok = data.map(tokenize, batched=True)\n",
    "\n",
    "# num_labels = len(le.classes_)\n",
    "# mdl = AutoModelForSequenceClassification.from_pretrained(model_name, num_labels=num_labels)"
   ]
  },
  {
   "cell_type": "code",
   "execution_count": null,
   "id": "334d8ba3-268b-4681-8dad-ac7757d53ccc",
   "metadata": {},
   "outputs": [],
   "source": [
    "# args = TrainingArguments(\n",
    "#     output_dir=\"./output\",           # where to save checkpoints and logs\n",
    "#     num_train_epochs=2,              # train iteration\n",
    "#     per_device_train_batch_size=2,   # train batch size per GPU/CPU\n",
    "#     per_device_eval_batch_size=2,    # eval batch size per GPU/CPU\n",
    "#     learning_rate=2e-5,              # common fine-tuning LR for BERT-like models\n",
    "#     weight_decay=0.01,               # L2 regularization on weights\n",
    "# )\n",
    "\n",
    "# trainer = Trainer(\n",
    "#     model=mdl,\n",
    "#     args=args,\n",
    "#     train_dataset=data_tok[\"train\"],\n",
    "#     eval_dataset=data_tok[\"test\"],\n",
    "#     processing_class=tok,\n",
    "# )\n"
   ]
  },
  {
   "cell_type": "code",
   "execution_count": 1,
   "id": "d5c7eb1a-5eb5-4ba5-9582-7616e60c44a7",
   "metadata": {},
   "outputs": [],
   "source": [
    "import os\n",
    "os.environ[\"WANDB_DISABLED\"] = \"true\""
   ]
  },
  {
   "cell_type": "code",
   "execution_count": null,
   "id": "4eb0f07b-24ed-48af-af83-c640fd52e141",
   "metadata": {},
   "outputs": [],
   "source": [
    "# trainer.train()"
   ]
  },
  {
   "cell_type": "code",
   "execution_count": null,
   "id": "488952e1-b515-474d-84f1-c803aee01207",
   "metadata": {},
   "outputs": [],
   "source": [
    "# metrics = trainer.evaluate()\n",
    "# print(metrics)"
   ]
  }
 ],
 "metadata": {
  "kernelspec": {
   "display_name": "Python 3 (ipykernel)",
   "language": "python",
   "name": "python3"
  },
  "language_info": {
   "codemirror_mode": {
    "name": "ipython",
    "version": 3
   },
   "file_extension": ".py",
   "mimetype": "text/x-python",
   "name": "python",
   "nbconvert_exporter": "python",
   "pygments_lexer": "ipython3",
   "version": "3.11.5"
  }
 },
 "nbformat": 4,
 "nbformat_minor": 5
}
